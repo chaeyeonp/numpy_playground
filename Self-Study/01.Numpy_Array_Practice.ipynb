{
 "cells": [
  {
   "cell_type": "markdown",
   "metadata": {},
   "source": [
    "# I. Pandas 기초 학습\n",
    "\n",
    "#### 링크 : https://wikidocs.net/32829\n",
    "\n",
    "### Series\n",
    "\n",
    "시리즈 클래스는 1차원 배열의 값(values)에 각 값에 대응되는 인덱스(index)를 부여할 수 있는 구조를 갖고 있습니다."
   ]
  },
  {
   "cell_type": "code",
   "execution_count": 2,
   "metadata": {},
   "outputs": [],
   "source": [
    "import pandas as pd"
   ]
  },
  {
   "cell_type": "code",
   "execution_count": 3,
   "metadata": {},
   "outputs": [
    {
     "name": "stdout",
     "output_type": "stream",
     "text": [
      "피자     17000\n",
      "치킨     20000\n",
      "콜라    150000\n",
      "맥주    200000\n",
      "dtype: int64\n"
     ]
    }
   ],
   "source": [
    "sr = pd.Series([17000,20000,150000,200000], index = [\"피자\",\"치킨\",\"콜라\",\"맥주\"])\n",
    "\n",
    "print(sr)"
   ]
  },
  {
   "cell_type": "markdown",
   "metadata": {},
   "source": [
    "### Data Frame\n",
    "\n",
    "데이터프레임은 2차원 리스트를 매개변수로 전달합니다. 2차원이므로 행방향 인덱스(index)와 열방향 인덱스(column)가 존재합니다. 즉, 행과 열을 가지는 자료구조입니다. 시리즈가 인덱스(index)와 값(values)으로 구성된다면, 데이터프레임은 열(columns)까지 추가되어 열(columns), 인덱스(index), 값(values)으로 구성됩니다."
   ]
  },
  {
   "cell_type": "code",
   "execution_count": 4,
   "metadata": {},
   "outputs": [
    {
     "name": "stdout",
     "output_type": "stream",
     "text": [
      "       A  B  C\n",
      "one    1  2  3\n",
      "two    4  5  6\n",
      "three  7  8  9\n"
     ]
    }
   ],
   "source": [
    "values = [[1, 2, 3], [4, 5, 6], [7, 8, 9]]\n",
    "index = ['one', 'two', 'three']\n",
    "columns = ['A', 'B', 'C']\n",
    "\n",
    "df = pd.DataFrame(values, index=index, columns=columns)\n",
    "print(df)"
   ]
  },
  {
   "cell_type": "code",
   "execution_count": 5,
   "metadata": {},
   "outputs": [
    {
     "name": "stdout",
     "output_type": "stream",
     "text": [
      "Index(['one', 'two', 'three'], dtype='object')\n"
     ]
    }
   ],
   "source": [
    "print(df.index) # 인덱스 출력"
   ]
  },
  {
   "cell_type": "code",
   "execution_count": 7,
   "metadata": {},
   "outputs": [
    {
     "name": "stdout",
     "output_type": "stream",
     "text": [
      "Index(['A', 'B', 'C'], dtype='object')\n"
     ]
    }
   ],
   "source": [
    "print(df.columns) # 열 출력"
   ]
  },
  {
   "cell_type": "code",
   "execution_count": 8,
   "metadata": {},
   "outputs": [
    {
     "name": "stdout",
     "output_type": "stream",
     "text": [
      "[[1 2 3]\n",
      " [4 5 6]\n",
      " [7 8 9]]\n"
     ]
    }
   ],
   "source": [
    "print(df.values) # 값 출력"
   ]
  },
  {
   "cell_type": "markdown",
   "metadata": {},
   "source": [
    "# II. Numpy란?\n",
    "\n",
    "#### 참고: https://cbw1030.tistory.com/266\n",
    "\n",
    "넘파이는 행렬\n",
    "\n",
    "일반적으로 대규모 다차원 배열을 쉽게 처리할 수 있도록 지원\n",
    "\n",
    "수학, 선형대수 적용하기에 최적화된 라이브러리\n"
   ]
  },
  {
   "cell_type": "markdown",
   "metadata": {},
   "source": [
    "## 넘파이에서 데이터 구조\n",
    "\n",
    "### 1. 스칼라 (Scalar) -> \"상수\"/ 차원이 없는 값\n",
    "\n",
    "실수 공간에서 크기를 나타내는 값\n",
    "\n",
    "하나의 숫자로 이루어진 데이터"
   ]
  },
  {
   "cell_type": "code",
   "execution_count": 9,
   "metadata": {},
   "outputs": [
    {
     "name": "stdout",
     "output_type": "stream",
     "text": [
      "5\n",
      "()\n"
     ]
    }
   ],
   "source": [
    "import numpy as np\n",
    "\n",
    "# array => numpy 라이브러리에서 다루는 주 자료형\n",
    "a = np.array(5)\n",
    "print(a)\n",
    "\n",
    "\n",
    "# 값이 하나여서 차원이 안나옴\n",
    "print(a.shape)"
   ]
  },
  {
   "cell_type": "markdown",
   "metadata": {},
   "source": [
    "### 2.벡터 (Vector) => 1차원\n",
    "\n",
    "n차원 공간에서 방향과 크기를 갖는 단위\n",
    "\n",
    "여러개의 숫자들을 특정한 순서대로 모아놓은 데이터 모음(데이터 레코드)\n",
    "\n",
    "1D Array (1차원 배열)"
   ]
  },
  {
   "cell_type": "code",
   "execution_count": 10,
   "metadata": {},
   "outputs": [
    {
     "name": "stdout",
     "output_type": "stream",
     "text": [
      "[1 2 3 4 5]\n",
      "<class 'numpy.ndarray'>\n",
      "(5,)\n"
     ]
    }
   ],
   "source": [
    "# 배열 객체 생성\n",
    "\n",
    "x1 = np.array([1,2,3,4,5])\n",
    "\n",
    "print(x1)\n",
    "\n",
    "print(type(x1))\n",
    "\n",
    "\n",
    "#1차원 배열 객체\n",
    "print(x1.shape)"
   ]
  },
  {
   "cell_type": "markdown",
   "metadata": {},
   "source": [
    "### 3.행렬 (Matrix) =>2차원\n",
    "\n",
    "벡터들을 모아놓은 데이터 집합\n",
    "\n",
    "2D Array (2차원 배열)"
   ]
  },
  {
   "cell_type": "code",
   "execution_count": 11,
   "metadata": {},
   "outputs": [
    {
     "name": "stdout",
     "output_type": "stream",
     "text": [
      "[[ 1.  2.  3.]\n",
      " [ 4.  5.  6.]\n",
      " [ 7.  8.  9.]\n",
      " [10. 11. 12.]]\n",
      "Rank  of t:  2\n",
      "Shape of t:  (4, 3)\n"
     ]
    }
   ],
   "source": [
    "t = np.array([[1., 2., 3.], [4., 5., 6.], [7., 8., 9.], [10., 11., 12.]])\n",
    "print(t)\n",
    "\n",
    "\n",
    "# 몇 차원인지 출력\n",
    "print('Rank  of t: ', t.ndim)\n",
    "print('Shape of t: ', t.shape)"
   ]
  },
  {
   "cell_type": "markdown",
   "metadata": {},
   "source": [
    "### 4.텐서 (Tensor) => 3차원\n",
    "\n",
    "같은 크기의 행렬들(텐서들)을 모아놓은 데이터 집합\n",
    "\n",
    "ND Array (다차원 배열)"
   ]
  },
  {
   "cell_type": "markdown",
   "metadata": {},
   "source": [
    "## 용어\n",
    "\n",
    "1. 축(axis)\n",
    "\n",
    "값들의 나열 방향\n",
    "하나의 축(axis)는 하나의 범주(Category)이다."
   ]
  },
  {
   "cell_type": "markdown",
   "metadata": {},
   "source": [
    "2. 랭크(rank)\n",
    "\n",
    "데이터 집합에서 축의 개수."
   ]
  },
  {
   "cell_type": "markdown",
   "metadata": {},
   "source": [
    "3. 형태/형상(shape)\n",
    "\n",
    "각 축(axis) 별 데이터의 개수"
   ]
  },
  {
   "cell_type": "markdown",
   "metadata": {},
   "source": [
    "4. 크기(size)\n",
    "\n",
    "배열내 원소의 총 개수"
   ]
  },
  {
   "cell_type": "code",
   "execution_count": null,
   "metadata": {},
   "outputs": [],
   "source": [
    "import numpy as np\n",
    "\n",
    "list1 = [1, 2, 3, 4]\n",
    "a = np.array(list1)\n",
    "print(a.shape) # (4, )"
   ]
  },
  {
   "cell_type": "markdown",
   "metadata": {},
   "source": [
    "### ndarray\n",
    "\n",
    "ndarray\n",
    "\n",
    ": 행렬(다차원 배열)에 대한 수치 계산\n",
    "참고) 배열: 크기가 고정적인 리스트\n",
    "\n",
    "numpy 배열 차원의 수는 배열의 rank이고, 배열의 shape은 각 차원의 크기를 알려주는 정수의 튜플이다. 랭크 [[ 수\n",
    "\n",
    "ndarray 생성\n",
    ": np.array 메서드 사용"
   ]
  },
  {
   "cell_type": "code",
   "execution_count": 6,
   "metadata": {},
   "outputs": [
    {
     "name": "stdout",
     "output_type": "stream",
     "text": [
      "[1 2 3]\n",
      "<class 'numpy.ndarray'>\n",
      "3\n",
      "1\n",
      "(3,)\n",
      "int32\n"
     ]
    }
   ],
   "source": [
    "import numpy as np\n",
    "\n",
    "a = np.array([1,2,3]) \n",
    "\n",
    "print(a) #[1 2 3]\n",
    "print(type(a)) #<class 'numpy.ndarray'>\n",
    "print(len(a)) #3 #값 갯수\n",
    "\n",
    "print(a.ndim) #1 #rank 1, [ 수 cf) axis: 0 rank 수 만큼\n",
    "print(a.shape) #(3,) #shape (?,) (3,)\n",
    "print(a.dtype) #int32"
   ]
  },
  {
   "cell_type": "markdown",
   "metadata": {},
   "source": [
    "차원 (dimension)\n",
    "\n",
    "Vector에서 차원 : 원소의 개수<br>\n",
    "넘파이 배열에서 차원 : 축의 개수"
   ]
  },
  {
   "cell_type": "markdown",
   "metadata": {},
   "source": [
    "### zeros(shape, dtype)\n",
    "\n",
    "\n",
    "#### 링크 : https://velog.io/@mingki/Numpy-%EB%B0%B0%EC%97%B4%EC%9D%84-%EC%83%9D%EC%84%B1%ED%95%98%EB%8A%94-%ED%95%A8%EC%88%98\n",
    "\n",
    "\n",
    "영벡터(행렬) 생성 : 원소들을 0으로 채운 배열\n",
    "\n",
    "shape : 형태(크기, 개수) 지정\n",
    "dtype : 요소의 개수 지정\n",
    "ones(shape, dtype)"
   ]
  },
  {
   "cell_type": "code",
   "execution_count": 21,
   "metadata": {},
   "outputs": [
    {
     "name": "stdout",
     "output_type": "stream",
     "text": [
      "[[0. 0. 0. 0.]\n",
      " [0. 0. 0. 0.]\n",
      " [0. 0. 0. 0.]]\n"
     ]
    }
   ],
   "source": [
    "a = np.zeros((3,4))\n",
    "\n",
    "print(a)"
   ]
  },
  {
   "cell_type": "markdown",
   "metadata": {},
   "source": [
    "### 일벡터 생성 : 원소들을 1로 채운 배열\n",
    "\n",
    "shape : 형태(크기, 개수) 지정\n",
    "dtype : 요소의 개수 지정"
   ]
  },
  {
   "cell_type": "code",
   "execution_count": 22,
   "metadata": {},
   "outputs": [
    {
     "name": "stdout",
     "output_type": "stream",
     "text": [
      "[[[1 1 1 1]\n",
      "  [1 1 1 1]\n",
      "  [1 1 1 1]]\n",
      "\n",
      " [[1 1 1 1]\n",
      "  [1 1 1 1]\n",
      "  [1 1 1 1]]]\n"
     ]
    }
   ],
   "source": [
    "a = np.ones((2,3,4), dtype = np.int16)\n",
    "\n",
    "print(a)"
   ]
  },
  {
   "cell_type": "markdown",
   "metadata": {},
   "source": [
    "### full(shape, fill_value, dtype))\n",
    "\n",
    "원소들을 원하는 값으로 채운 배열 생성\n",
    "\n",
    "shape : 형태(크기, 개수) 지정\n",
    "fill_vlaue : 채울 값\n",
    "dtype : 요소의 개수 지정"
   ]
  },
  {
   "cell_type": "code",
   "execution_count": 23,
   "metadata": {},
   "outputs": [
    {
     "name": "stdout",
     "output_type": "stream",
     "text": [
      "[[7 7]\n",
      " [7 7]]\n"
     ]
    }
   ],
   "source": [
    "a = np.full((2,2),7)\n",
    "\n",
    "print(a)"
   ]
  },
  {
   "cell_type": "markdown",
   "metadata": {},
   "source": [
    "### numpy.XXX_like(ndarray)\n",
    "shape은 매개변수로 받은 배열의 shape에 XXX로 원소들을 채운다."
   ]
  },
  {
   "cell_type": "code",
   "execution_count": 24,
   "metadata": {},
   "outputs": [
    {
     "name": "stdout",
     "output_type": "stream",
     "text": [
      "[[1 1 1]\n",
      " [1 1 1]]\n"
     ]
    }
   ],
   "source": [
    "a = np.array([[1,2,3], [4,5,6]])\n",
    "b = np.ones_like(a)\n",
    "\n",
    "print(b)"
   ]
  },
  {
   "cell_type": "markdown",
   "metadata": {},
   "source": [
    "### arange(start, stop, step, dtype)\n",
    "start에서 stop 범위에서 step의 일정한 간격의 값들로 구성된 배열 리턴\n",
    "\n",
    "API\n",
    "start : 범위의 시작값으로 포함된다.(생략가능 - 기본값:0)\n",
    "stop : 범위의 끝값으로 포함되지 않는다. (필수)\n",
    "step : 간격 (기본값 1)\n",
    "dtype : 요소의 타입"
   ]
  },
  {
   "cell_type": "code",
   "execution_count": 25,
   "metadata": {},
   "outputs": [
    {
     "name": "stdout",
     "output_type": "stream",
     "text": [
      "[0. 2. 4. 6. 8.]\n"
     ]
    }
   ],
   "source": [
    "a = np.arange(0,10,2,np.float)\n",
    "\n",
    "print(a)"
   ]
  },
  {
   "cell_type": "code",
   "execution_count": 26,
   "metadata": {},
   "outputs": [
    {
     "data": {
      "image/png": "[encoded data removed]",
      "text/plain": [
       "<Figure size 432x288 with 1 Axes>"
      ]
     },
     "metadata": {
      "needs_background": "light"
     },
     "output_type": "display_data"
    }
   ],
   "source": [
    "import matplotlib.pyplot as plt\n",
    "plt.plot(a, 'o')\n",
    "plt.show()"
   ]
  },
  {
   "cell_type": "markdown",
   "metadata": {},
   "source": [
    "### linspace(start, stop, num=50, endpoint=True, retstep=False, dtype=None)\n",
    "\n",
    "#### 범위의 시작과 끝을 지정하고 데이터의 개수를 지정해 NumPy 배열을 생성\n",
    "\n",
    "#### arr_obj = np.arange([start,]stop[, step])\n",
    "\n",
    "시작과 끝을 균등하게 나눈 값들을 가지는 배열을 생성\n",
    "\n",
    "API\n",
    "\n",
    "start : 시작값\n",
    "\n",
    "stop : 종료값\n",
    "\n",
    "num : 나눌 개수. 기본-50, 양수 여야한다.\n",
    "\n",
    "endpoint : stop을 포함시킬 것인지 여부. 기본 True\n",
    "\n",
    "retstep : 생성된 배열 샘플과 함께 간격(step)도 리턴할지 여부. True일경우 간격도 리턴(sample, step) => 튜플로 받는다.\n",
    "\n",
    "dtype : 데이터 타입"
   ]
  },
  {
   "cell_type": "code",
   "execution_count": 27,
   "metadata": {
    "scrolled": true
   },
   "outputs": [
    {
     "name": "stdout",
     "output_type": "stream",
     "text": [
      "[0.   0.25 0.5  0.75 1.  ]\n"
     ]
    }
   ],
   "source": [
    "a = np.linspace(0, 1, 5)\n",
    "print(a)"
   ]
  },
  {
   "cell_type": "code",
   "execution_count": 28,
   "metadata": {},
   "outputs": [
    {
     "data": {
      "image/png": "[encoded data removed]",
      "text/plain": [
       "<Figure size 432x288 with 1 Axes>"
      ]
     },
     "metadata": {
      "needs_background": "light"
     },
     "output_type": "display_data"
    }
   ],
   "source": [
    "# linspace의 데이터 추출 시각화\n",
    "import matplotlib.pyplot as plt\n",
    "plt.plot(a, 'o')\n",
    "plt.show()\n"
   ]
  },
  {
   "cell_type": "markdown",
   "metadata": {},
   "source": [
    "## np.logspace 함수\n",
    "\n",
    "numpy.logspace(start, stop, num=50, endpoint=True, base=10.0, dtype=None)\n",
    "로그 스케일의 linspace 함수\n",
    "로그 스케일로 지정된 범위에서 num 개수만큼 균등 간격으로 데이터 생성한 후 배열 만듦"
   ]
  },
  {
   "cell_type": "code",
   "execution_count": 30,
   "metadata": {},
   "outputs": [
    {
     "name": "stdout",
     "output_type": "stream",
     "text": [
      "[ 1.25892541  1.40400425  1.565802    1.74624535  1.94748304  2.1719114\n",
      "  2.42220294  2.70133812  3.0126409   3.35981829  3.74700446  4.17881006\n",
      "  4.66037703  5.19743987  5.79639395  6.46437163  7.2093272   8.04013161\n",
      "  8.9666781  10.        ]\n"
     ]
    }
   ],
   "source": [
    "a = np.logspace(0.1, 1, 20, endpoint=True)\n",
    "print(a)"
   ]
  },
  {
   "cell_type": "markdown",
   "metadata": {},
   "source": [
    "## 난수를 원소로 하는 ndarray 생성\n",
    "numpy의 서브패키지인 random 패키지에서 제공하는 함수들\n",
    "np.random.seed(정수) : 시드값 설정"
   ]
  },
  {
   "cell_type": "markdown",
   "metadata": {},
   "source": [
    "### np.random.seed(시드값)\n",
    "- 난수 발생 알고리즘이 사용할 시작값(시드값)을 설정\n",
    "- 시드값을 설정하면 항상 일정한 순서의 난수(random value)가 발생한다.\n",
    "> 랜덤함수는 특정숫자부터 시작하는 일렬의 수열을 만들어 값을 제공하는 함수이다.    \n",
    "> 시작 숫자는 실행할때 마다 바뀌므로 다른 값들이 나오는데 시드값은 시작값을 고정시키면 항상 시작 값이 같으므로 같은 값들이 순서대로 제공된다.    \n",
    "> 매번 실행할때 마다 같은 순서의 임의의 값이(난수) 나오도록 할때 시드값을 설정한다."
   ]
  },
  {
   "cell_type": "code",
   "execution_count": 36,
   "metadata": {},
   "outputs": [
    {
     "data": {
      "text/plain": [
       "0.417022004702574"
      ]
     },
     "execution_count": 36,
     "metadata": {},
     "output_type": "execute_result"
    }
   ],
   "source": [
    "np.random.seed(1)\n",
    "np.random.rand()"
   ]
  },
  {
   "cell_type": "markdown",
   "metadata": {},
   "source": [
    "### np.random.rand(axis0[, axis1, axis2, ...])    \n",
    "- [API](https://numpy.org/doc/stable/reference/random/generated/numpy.random.rand.html?highlight=rand#numpy.random.rand)\n",
    "- 0~1사이의 실수를 리턴\n",
    "- 축의 크기는 순서대로 나열한다."
   ]
  },
  {
   "cell_type": "markdown",
   "metadata": {},
   "source": [
    "### np.random.normal(loc=0.0, scale=1.0, size=None) \n",
    "정규분포를 따르는 난수.\n",
    "\n",
    "- [API](https://numpy.org/doc/stable/reference/random/generated/numpy.random.normal.html?highlight=normal#numpy.random.normal)\n",
    "- loc: 평균\n",
    "- scale: 표준편차\n",
    "- loc, scale 생략시 표준정규 분포를 따르는 난수를 제공 \n",
    "> #### 표준정규분포\n",
    "> 평균 : 0, 표준편차 : 1 인 분포"
   ]
  },
  {
   "cell_type": "code",
   "execution_count": 37,
   "metadata": {},
   "outputs": [
    {
     "data": {
      "text/plain": [
       "(1000,)"
      ]
     },
     "execution_count": 37,
     "metadata": {},
     "output_type": "execute_result"
    }
   ],
   "source": [
    "x = np.random.normal(loc=10, scale = 5, size = 1000) \n",
    "# 평균 : 10, 표준편차 : 5인 정규 분포\n",
    "x.shape"
   ]
  },
  {
   "cell_type": "code",
   "execution_count": 38,
   "metadata": {},
   "outputs": [
    {
     "name": "stderr",
     "output_type": "stream",
     "text": [
      "C:\\Users\\Playdata\\anaconda3\\lib\\site-packages\\seaborn\\distributions.py:2551: FutureWarning: `distplot` is a deprecated function and will be removed in a future version. Please adapt your code to use either `displot` (a figure-level function with similar flexibility) or `histplot` (an axes-level function for histograms).\n",
      "  warnings.warn(msg, FutureWarning)\n"
     ]
    },
    {
     "data": {
      "text/plain": [
       "<AxesSubplot:ylabel='Density'>"
      ]
     },
     "execution_count": 38,
     "metadata": {},
     "output_type": "execute_result"
    },
    {
     "data": {
      "image/png": "[encoded data removed]",
      "text/plain": [
       "<Figure size 432x288 with 1 Axes>"
      ]
     },
     "metadata": {
      "needs_background": "light"
     },
     "output_type": "display_data"
    }
   ],
   "source": [
    "import seaborn as sns\n",
    "sns.distplot(x)"
   ]
  },
  {
   "cell_type": "code",
   "execution_count": 39,
   "metadata": {},
   "outputs": [],
   "source": [
    "x2 = np.random.normal(size = 1000) #평균:0, 표준편차:1 => 표준 정규 분포"
   ]
  },
  {
   "cell_type": "markdown",
   "metadata": {},
   "source": [
    "### np.random.randint(low, high=None, size=None, dtype='l')\n",
    "임의의 정수를 가지는 1차원 배열\n",
    "- [API](https://numpy.org/doc/stable/reference/random/generated/numpy.random.randint.html?highlight=randint#numpy.random.randint)\n",
    "- low ~ high 사이의 정수 리턴. high는 포함안됨\n",
    "- high 생략시 0 ~ low 사이 정수 리턴. low는 포함안됨\n",
    "- size : 배열의 크기. 다차원은 튜플로 지정 기본 1개\n",
    "- dtype : 원소의 타입"
   ]
  },
  {
   "cell_type": "code",
   "execution_count": 40,
   "metadata": {},
   "outputs": [
    {
     "data": {
      "text/plain": [
       "array([4, 2, 1, 1, 1, 2, 1, 0, 0, 3])"
      ]
     },
     "execution_count": 40,
     "metadata": {},
     "output_type": "execute_result"
    }
   ],
   "source": [
    "np.random.randint(5,size=10)"
   ]
  },
  {
   "cell_type": "markdown",
   "metadata": {},
   "source": [
    "## 순서바꾸기\n",
    "- shuffle(x) : 배열 자체의 순서를 바꾼다.(원본을 바꾼다.)\n",
    "- permutation(x) : 순서를 바꾼 배열을 반환한다. (카피본)\n",
    "- 다차원 배열의 경우 0번 축을 기준으로만 섞는다."
   ]
  },
  {
   "cell_type": "code",
   "execution_count": 42,
   "metadata": {},
   "outputs": [
    {
     "data": {
      "text/plain": [
       "array([5, 6, 4, 0, 8, 1, 7, 3, 9, 2])"
      ]
     },
     "execution_count": 42,
     "metadata": {},
     "output_type": "execute_result"
    }
   ],
   "source": [
    "x = np.arange(10)\n",
    "\n",
    "np.random.shuffle(x)\n",
    "\n",
    "np.random.permutation(x)"
   ]
  },
  {
   "cell_type": "code",
   "execution_count": 44,
   "metadata": {},
   "outputs": [
    {
     "data": {
      "text/plain": [
       "(3, 3)"
      ]
     },
     "execution_count": 44,
     "metadata": {},
     "output_type": "execute_result"
    }
   ],
   "source": [
    "l = [\n",
    "    [1,2,3],\n",
    "    [10,20,30],\n",
    "    [100,200,300]\n",
    "]\n",
    "\n",
    "\n",
    "x = np.array(l)\n",
    "\n",
    "x.shape\n",
    "\n"
   ]
  },
  {
   "cell_type": "code",
   "execution_count": null,
   "metadata": {},
   "outputs": [],
   "source": [
    "x = np.arange(20)\n",
    "\n",
    "x"
   ]
  },
  {
   "cell_type": "markdown",
   "metadata": {},
   "source": [
    "## Reshape\n",
    "\n",
    "reshape함수는 np.reshape(변경할 배열, 차원) 또는 배열. reshape(차원)으로 사용 할 수 있으며, 현재의 배열의 차원(1차원,2차원,3차원)을 변경하여 행렬을 반환하거나 하는 경우에 많이 이용되는 함수이다."
   ]
  },
  {
   "cell_type": "code",
   "execution_count": 45,
   "metadata": {},
   "outputs": [
    {
     "name": "stdout",
     "output_type": "stream",
     "text": [
      "[[ 0  1  2  3  4  5  6  7  8  9]\n",
      " [10 11 12 13 14 15 16 17 18 19]\n",
      " [20 21 22 23 24 25 26 27 28 29]\n",
      " [30 31 32 33 34 35 36 37 38 39]\n",
      " [40 41 42 43 44 45 46 47 48 49]]\n",
      "(5, 10)\n",
      "[[12 13 14 15 16 17]\n",
      " [22 23 24 25 26 27]\n",
      " [32 33 34 35 36 37]]\n"
     ]
    }
   ],
   "source": [
    "y2 = np.arange(5*10).reshape(5,10)\n",
    "\n",
    "print(y2)\n",
    "print(y2.shape)\n",
    "\n",
    "print(y2[1:4,2:8])"
   ]
  },
  {
   "cell_type": "markdown",
   "metadata": {},
   "source": [
    "## Example"
   ]
  },
  {
   "cell_type": "code",
   "execution_count": 31,
   "metadata": {},
   "outputs": [
    {
     "name": "stdout",
     "output_type": "stream",
     "text": [
      "(3, 1)\n",
      "2\n"
     ]
    }
   ],
   "source": [
    "l2 = [[1],[2],[3]]\n",
    "\n",
    "a1 = np.array(l2)\n",
    "\n",
    "print(a1.shape)\n",
    "\n",
    "print(a1.ndim)"
   ]
  },
  {
   "cell_type": "code",
   "execution_count": 32,
   "metadata": {},
   "outputs": [
    {
     "data": {
      "text/plain": [
       "(dtype('float64'), dtype('float64'))"
      ]
     },
     "execution_count": 32,
     "metadata": {},
     "output_type": "execute_result"
    }
   ],
   "source": [
    "c = a.astype(np.float64)\n",
    "\n",
    "a.dtype, c.dtype"
   ]
  },
  {
   "cell_type": "code",
   "execution_count": 33,
   "metadata": {},
   "outputs": [
    {
     "data": {
      "text/plain": [
       "0.417022004702574"
      ]
     },
     "execution_count": 33,
     "metadata": {},
     "output_type": "execute_result"
    }
   ],
   "source": [
    "np.random.seed(1)\n",
    "np.random.rand()"
   ]
  },
  {
   "cell_type": "code",
   "execution_count": 1,
   "metadata": {},
   "outputs": [
    {
     "ename": "NameError",
     "evalue": "name 'np' is not defined",
     "output_type": "error",
     "traceback": [
      "\u001b[1;31m---------------------------------------------------------------------------\u001b[0m",
      "\u001b[1;31mNameError\u001b[0m                                 Traceback (most recent call last)",
      "\u001b[1;32m<ipython-input-1-da64e6ec342c>\u001b[0m in \u001b[0;36m<module>\u001b[1;34m\u001b[0m\n\u001b[1;32m----> 1\u001b[1;33m \u001b[0mx\u001b[0m \u001b[1;33m=\u001b[0m \u001b[0mnp\u001b[0m\u001b[1;33m.\u001b[0m\u001b[0mrandom\u001b[0m\u001b[1;33m.\u001b[0m\u001b[0mnormal\u001b[0m\u001b[1;33m(\u001b[0m\u001b[0mloc\u001b[0m\u001b[1;33m=\u001b[0m\u001b[1;36m10\u001b[0m\u001b[1;33m)\u001b[0m\u001b[1;33m\u001b[0m\u001b[1;33m\u001b[0m\u001b[0m\n\u001b[0m",
      "\u001b[1;31mNameError\u001b[0m: name 'np' is not defined"
     ]
    }
   ],
   "source": [
    "x = np.random.normal(loc=10)"
   ]
  },
  {
   "cell_type": "code",
   "execution_count": null,
   "metadata": {},
   "outputs": [],
   "source": []
  }
 ],
 "metadata": {
  "kernelspec": {
   "display_name": "Python 3",
   "language": "python",
   "name": "python3"
  },
  "language_info": {
   "codemirror_mode": {
    "name": "ipython",
    "version": 3
   },
   "file_extension": ".py",
   "mimetype": "text/x-python",
   "name": "python",
   "nbconvert_exporter": "python",
   "pygments_lexer": "ipython3",
   "version": "3.7.6"
  }
 },
 "nbformat": 4,
 "nbformat_minor": 4
}
