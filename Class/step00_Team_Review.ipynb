{
 "cells": [
  {
   "cell_type": "markdown",
   "metadata": {},
   "source": [
    "## 1번. random메소드를 사용하되 어려번 실행되어도 같은 값이 나오는 (10,) 형태의 numpy array를 만들어 주세요\n",
    "\n",
    "소문제\n",
    "1. array 요소의 합, 최댓값, 최댓값일때의 index 번호룰 출력하세요 \n",
    "- 브로드케스팅 기능을 이용해서 각 값의 크기를 2배 해주세요\n",
    "- 브로드케스팅을 이용하여 +3 값을 해주세요\n",
    "- 행렬을 같은 크기의 행렬을 만들어서 두 행렬의 곱을 구하세요(기존의 array와 다르게 값이 계속 바뀌게 만들어주세요)\n",
    "- 위에서 만든 행열과 기본의 행렬의 np.dot 연산을 진행해 주세요\n"
   ]
  },
  {
   "cell_type": "code",
   "execution_count": 11,
   "metadata": {},
   "outputs": [],
   "source": [
    "import numpy as np\n",
    "\n",
    "# 1번 array 요소의 합, 최댓값, 최댓값일때의 index 번호를 출력하세요\n",
    "x = np.random.rand(10)\n",
    "\n",
    "# arr1 = np.array(x)\n",
    "\n",
    "xmin = np.min(arr1)\n",
    "\n",
    "xmin_index = np.where(xmin == x)\n",
    "\n",
    "\n",
    "\n",
    "xmax = np.max(arr1)\n",
    "xindex = np.argmax(arr1)\n",
    "xmax_index = np.where(xmax == x)\n"
   ]
  },
  {
   "cell_type": "code",
   "execution_count": 14,
   "metadata": {},
   "outputs": [
    {
     "data": {
      "text/plain": [
       "array([0.27974133, 1.78654496, 0.16893113, 0.0837563 , 1.08140858,\n",
       "       1.96879788, 0.47171977, 0.78568885, 0.89584807, 1.67284326])"
      ]
     },
     "execution_count": 14,
     "metadata": {},
     "output_type": "execute_result"
    }
   ],
   "source": [
    "# 2번 브로드케스팅 기능을 이용해서 각 값의 크기를 2배 해주세요\n",
    "x* 2"
   ]
  },
  {
   "cell_type": "code",
   "execution_count": 15,
   "metadata": {},
   "outputs": [
    {
     "data": {
      "text/plain": [
       "array([3.13987067, 3.89327248, 3.08446557, 3.04187815, 3.54070429,\n",
       "       3.98439894, 3.23585989, 3.39284442, 3.44792403, 3.83642163])"
      ]
     },
     "execution_count": 15,
     "metadata": {},
     "output_type": "execute_result"
    }
   ],
   "source": [
    "# 3번 브로드케스팅을 이용하여 +3 값을 해주세요\n",
    "x + 3"
   ]
  },
  {
   "cell_type": "code",
   "execution_count": 19,
   "metadata": {},
   "outputs": [
    {
     "name": "stdout",
     "output_type": "stream",
     "text": [
      "[[ 5 12]\n",
      " [21 32]]\n"
     ]
    }
   ],
   "source": [
    "# 4번\n",
    "# 행렬을 같은 크기의 행렬을 만들어서 두 행렬의 곱을 구하세요(기존의 array와 다르게 값이 계속 바뀌게 만들어주세요)\n",
    "\n",
    "a = np.array([[1,2],[3,4]])\n",
    "b = np.array([[5,6],[7,8]])\n",
    "\n",
    "d = a*b\n",
    "print(d)        "
   ]
  },
  {
   "cell_type": "code",
   "execution_count": 17,
   "metadata": {},
   "outputs": [
    {
     "name": "stdout",
     "output_type": "stream",
     "text": [
      "[[19 22]\n",
      " [43 50]]\n"
     ]
    }
   ],
   "source": [
    "# 5번 위에서 만든 행열과 기본의 행렬의 np.dot 연산을 진행해 주세요\n",
    "\n",
    "c = np.dot(a,b)\n",
    "print(c)"
   ]
  },
  {
   "cell_type": "markdown",
   "metadata": {},
   "source": [
    "## 2번\n",
    "\n",
    "array([0, 1, 2, 3, 4, 5, 6, 7, 8, 9]) 형태를\n",
    "\n",
    "array([[0, 1, 2, 3, 4],\n",
    "       [5, 6, 7, 8, 9]]) \n",
    "       \n",
    "       와\n",
    "       \n",
    "array([[0, 1],\n",
    "       [2, 3],\n",
    "       [4, 5],\n",
    "       [6, 7],\n",
    "       [8, 9]])\n",
    "       \n",
    "형태로 변경하세요\n",
    "      "
   ]
  },
  {
   "cell_type": "code",
   "execution_count": 52,
   "metadata": {},
   "outputs": [
    {
     "name": "stdout",
     "output_type": "stream",
     "text": [
      "[[0 1 2 3 4]\n",
      " [5 6 7 8 9]]\n",
      "[[0 1]\n",
      " [2 3]\n",
      " [4 5]\n",
      " [6 7]\n",
      " [8 9]]\n"
     ]
    }
   ],
   "source": [
    "a = np.array([0, 1, 2, 3, 4, 5, 6, 7, 8, 9])\n",
    "\n",
    "b = a.reshape(2,-1)\n",
    "\n",
    "print(b)\n",
    "\n",
    "c = a.reshape(5,-1)\n",
    "print(c)"
   ]
  },
  {
   "cell_type": "markdown",
   "metadata": {},
   "source": [
    "## 3번. 마크다운에 있는 array를 복사하여 다음 문제를 풀어주세요\n",
    "\n",
    "data = np.array([ [[1,2,3,4], \n",
    "                  [5,6,7,8], \n",
    "                  [9,10,11,12]], \n",
    "                  [[21,22,23,24], \n",
    "                   [25,26,27,28], \n",
    "                   [29,30,31,32]] ])\n",
    "에서 \n",
    "\n",
    "1. 이 베열의 차원, 모양을 출력하세요 \n",
    "- 26을 뽑아주세요\n",
    "- 7 을 39로 변경해주세요\n"
   ]
  },
  {
   "cell_type": "code",
   "execution_count": 29,
   "metadata": {},
   "outputs": [
    {
     "name": "stdout",
     "output_type": "stream",
     "text": [
      "3\n",
      "(2, 3, 4)\n"
     ]
    }
   ],
   "source": [
    "#3-1번\n",
    "data = np.array([ [[1,2,3,4], [5,6,7,8], [9,10,11,12]], [[21,22,23,24], [25,26,27,28], [29,30,31,32]] ])\n",
    "\n",
    "print(data.ndim)\n",
    "print(data.shape)"
   ]
  },
  {
   "cell_type": "code",
   "execution_count": 35,
   "metadata": {},
   "outputs": [
    {
     "data": {
      "text/plain": [
       "26"
      ]
     },
     "execution_count": 35,
     "metadata": {},
     "output_type": "execute_result"
    }
   ],
   "source": [
    "#3-2번 26을 뽑아주세요\n",
    "\n",
    "data[1,1,1]"
   ]
  },
  {
   "cell_type": "code",
   "execution_count": 37,
   "metadata": {},
   "outputs": [
    {
     "name": "stdout",
     "output_type": "stream",
     "text": [
      "[[[ 1  2  3  4]\n",
      "  [ 5  6 39  8]\n",
      "  [ 9 10 11 12]]\n",
      "\n",
      " [[21 22 23 24]\n",
      "  [25 26 27 28]\n",
      "  [29 30 31 32]]]\n"
     ]
    }
   ],
   "source": [
    "#3-3번 7 을 39로 변경해주세요\n",
    "\n",
    "data[0][1][2] = 39\n"
   ]
  },
  {
   "cell_type": "markdown",
   "metadata": {},
   "source": [
    "## 4번. 마크다운에 있는 array를 복사하여 다음 문제를 풀어주세요\n",
    "\n",
    "\n",
    "x = np.array([[1,2,3],[5,6,7]])\n",
    "y = np.array([[33,44,55], [11,22,66]])\n",
    "x,y\n",
    "\n",
    "이 두 array를 이용해서 concatenate 와 array 결합(np.array([x,y]))을 출력하고\n",
    "두 가지 결합 방법의 차이점을 기술하세요"
   ]
  },
  {
   "cell_type": "code",
   "execution_count": 53,
   "metadata": {},
   "outputs": [
    {
     "data": {
      "text/plain": [
       "(4, 3)"
      ]
     },
     "execution_count": 53,
     "metadata": {},
     "output_type": "execute_result"
    }
   ],
   "source": [
    "# concatenate\n",
    "\n",
    "x = np.array([[1,2,3],[5,6,7]]) \n",
    "y = np.array([[33,44,55], [11,22,66]])\n",
    "\n",
    "np.concatenate([x,y]).shape\n",
    "\n"
   ]
  },
  {
   "cell_type": "code",
   "execution_count": 54,
   "metadata": {},
   "outputs": [
    {
     "data": {
      "text/plain": [
       "(2, 2, 3)"
      ]
     },
     "execution_count": 54,
     "metadata": {},
     "output_type": "execute_result"
    }
   ],
   "source": [
    "# array 결합\n",
    "\n",
    "(np.array([x,y])).shape"
   ]
  },
  {
   "cell_type": "markdown",
   "metadata": {},
   "source": [
    "두 결합 방법의 차이점을 이 마크다운에 설명해주세요"
   ]
  },
  {
   "cell_type": "markdown",
   "metadata": {},
   "source": [
    "## 5. 마크다운에 있는 array를 복사하여 다음 문제를 풀어주세요\n",
    "\n",
    "a = np.array([[4,  3,  5,  7],\n",
    "              [1, 12, 11,  9],\n",
    "              [2, 15,  1, 14]])\n",
    "\n",
    "단, a array는 변경이 없어야 합니다.\n",
    "1. 각 행별로 열을 기준으로 오름차순 정렬\n",
    "- 각 열별로 행을 기준으로 오름차순 정렬"
   ]
  },
  {
   "cell_type": "code",
   "execution_count": 56,
   "metadata": {},
   "outputs": [
    {
     "name": "stdout",
     "output_type": "stream",
     "text": [
      "[[ 4  3  5  7]\n",
      " [ 1 12 11  9]\n",
      " [ 2 15  1 14]]\n"
     ]
    }
   ],
   "source": [
    "# a array 출력\n",
    "a = np.array([[4, 3, 5, 7], [1, 12, 11, 9], [2, 15, 1, 14]])\n",
    "print(a)"
   ]
  },
  {
   "cell_type": "code",
   "execution_count": 57,
   "metadata": {},
   "outputs": [
    {
     "name": "stdout",
     "output_type": "stream",
     "text": [
      "[[ 1  3  1  7]\n",
      " [ 2 12  5  9]\n",
      " [ 4 15 11 14]]\n"
     ]
    }
   ],
   "source": [
    "#각 행별로 열을 기준으로 오름차순 정렬\n",
    "b = np.sort(a, axis=0)\n",
    "\n",
    "print(b)"
   ]
  },
  {
   "cell_type": "code",
   "execution_count": 58,
   "metadata": {},
   "outputs": [
    {
     "name": "stdout",
     "output_type": "stream",
     "text": [
      "[[ 3  4  5  7]\n",
      " [ 1  9 11 12]\n",
      " [ 1  2 14 15]]\n"
     ]
    }
   ],
   "source": [
    "#각 열별로 행을 기준으로 오름차순 정렬\n",
    "\n",
    "c = np.sort(a, axis=1)\n",
    "\n",
    "print(c)"
   ]
  },
  {
   "cell_type": "code",
   "execution_count": 59,
   "metadata": {},
   "outputs": [
    {
     "name": "stdout",
     "output_type": "stream",
     "text": [
      "[[ 4  3  5  7]\n",
      " [ 1 12 11  9]\n",
      " [ 2 15  1 14]]\n"
     ]
    }
   ],
   "source": [
    "# a array 출력\n",
    "\n",
    "print(a)"
   ]
  },
  {
   "cell_type": "code",
   "execution_count": null,
   "metadata": {},
   "outputs": [],
   "source": []
  }
 ],
 "metadata": {
  "kernelspec": {
   "display_name": "Python 3",
   "language": "python",
   "name": "python3"
  },
  "language_info": {
   "codemirror_mode": {
    "name": "ipython",
    "version": 3
   },
   "file_extension": ".py",
   "mimetype": "text/x-python",
   "name": "python",
   "nbconvert_exporter": "python",
   "pygments_lexer": "ipython3",
   "version": "3.7.6"
  }
 },
 "nbformat": 4,
 "nbformat_minor": 4
}
